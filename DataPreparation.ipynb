{
  "nbformat": 4,
  "nbformat_minor": 0,
  "metadata": {
    "colab": {
      "name": "DataPreparation.ipynb",
      "provenance": []
    },
    "kernelspec": {
      "name": "python3",
      "display_name": "Python 3"
    },
    "accelerator": "TPU"
  },
  "cells": [
    {
      "cell_type": "code",
      "metadata": {
        "id": "Qrui8UYNHsxH",
        "colab_type": "code",
        "colab": {}
      },
      "source": [
        "import numpy as np\n",
        "import pandas as pd\n",
        "import matplotlib.pyplot as plt\n",
        "import seaborn as sns"
      ],
      "execution_count": 50,
      "outputs": []
    },
    {
      "cell_type": "code",
      "metadata": {
        "id": "g6GrL6hhH139",
        "colab_type": "code",
        "colab": {
          "resources": {
            "http://localhost:8080/nbextensions/google.colab/files.js": {
              "data": "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",
              "ok": true,
              "headers": [
                [
                  "content-type",
                  "application/javascript"
                ]
              ],
              "status": 200,
              "status_text": ""
            }
          },
          "base_uri": "https://localhost:8080/",
          "height": 73
        },
        "outputId": "549d8164-744d-44c9-ddcf-219b2cc18476"
      },
      "source": [
        "from google.colab import files\n",
        "uploaded = files.upload()"
      ],
      "execution_count": null,
      "outputs": [
        {
          "output_type": "display_data",
          "data": {
            "text/html": [
              "\n",
              "     <input type=\"file\" id=\"files-aed12156-cdd3-40b9-9730-22106e9b3d5e\" name=\"files[]\" multiple disabled\n",
              "        style=\"border:none\" />\n",
              "     <output id=\"result-aed12156-cdd3-40b9-9730-22106e9b3d5e\">\n",
              "      Upload widget is only available when the cell has been executed in the\n",
              "      current browser session. Please rerun this cell to enable.\n",
              "      </output>\n",
              "      <script src=\"/nbextensions/google.colab/files.js\"></script> "
            ],
            "text/plain": [
              "<IPython.core.display.HTML object>"
            ]
          },
          "metadata": {
            "tags": []
          }
        },
        {
          "output_type": "stream",
          "text": [
            "Saving BTC-USD.csv to BTC-USD.csv\n"
          ],
          "name": "stdout"
        }
      ]
    },
    {
      "cell_type": "code",
      "metadata": {
        "id": "xIfEcjKQH8yE",
        "colab_type": "code",
        "colab": {}
      },
      "source": [
        "import io\n",
        "df = pd.read_csv(io.BytesIO(uploaded['BTC-USD.csv']))"
      ],
      "execution_count": 51,
      "outputs": []
    },
    {
      "cell_type": "code",
      "metadata": {
        "id": "DSzdO3cvID9F",
        "colab_type": "code",
        "colab": {
          "base_uri": "https://localhost:8080/",
          "height": 406
        },
        "outputId": "bdb0aa7a-6447-44bf-8f8e-4a0383b45f52"
      },
      "source": [
        "df"
      ],
      "execution_count": 52,
      "outputs": [
        {
          "output_type": "execute_result",
          "data": {
            "text/html": [
              "<div>\n",
              "<style scoped>\n",
              "    .dataframe tbody tr th:only-of-type {\n",
              "        vertical-align: middle;\n",
              "    }\n",
              "\n",
              "    .dataframe tbody tr th {\n",
              "        vertical-align: top;\n",
              "    }\n",
              "\n",
              "    .dataframe thead th {\n",
              "        text-align: right;\n",
              "    }\n",
              "</style>\n",
              "<table border=\"1\" class=\"dataframe\">\n",
              "  <thead>\n",
              "    <tr style=\"text-align: right;\">\n",
              "      <th></th>\n",
              "      <th>Date</th>\n",
              "      <th>Open</th>\n",
              "      <th>High</th>\n",
              "      <th>Low</th>\n",
              "      <th>Close</th>\n",
              "      <th>Adj Close</th>\n",
              "      <th>Volume</th>\n",
              "    </tr>\n",
              "  </thead>\n",
              "  <tbody>\n",
              "    <tr>\n",
              "      <th>0</th>\n",
              "      <td>2019-06-28</td>\n",
              "      <td>11162.167969</td>\n",
              "      <td>12445.174805</td>\n",
              "      <td>10914.495117</td>\n",
              "      <td>12407.332031</td>\n",
              "      <td>12407.332031</td>\n",
              "      <td>3.508776e+10</td>\n",
              "    </tr>\n",
              "    <tr>\n",
              "      <th>1</th>\n",
              "      <td>2019-06-29</td>\n",
              "      <td>12400.763672</td>\n",
              "      <td>12400.910156</td>\n",
              "      <td>11508.378906</td>\n",
              "      <td>11959.371094</td>\n",
              "      <td>11959.371094</td>\n",
              "      <td>2.992396e+10</td>\n",
              "    </tr>\n",
              "    <tr>\n",
              "      <th>2</th>\n",
              "      <td>2019-06-30</td>\n",
              "      <td>11931.991211</td>\n",
              "      <td>12178.383789</td>\n",
              "      <td>10799.008789</td>\n",
              "      <td>10817.155273</td>\n",
              "      <td>10817.155273</td>\n",
              "      <td>2.725647e+10</td>\n",
              "    </tr>\n",
              "    <tr>\n",
              "      <th>3</th>\n",
              "      <td>2019-07-01</td>\n",
              "      <td>10796.930664</td>\n",
              "      <td>11206.439453</td>\n",
              "      <td>10089.314453</td>\n",
              "      <td>10583.134766</td>\n",
              "      <td>10583.134766</td>\n",
              "      <td>2.937859e+10</td>\n",
              "    </tr>\n",
              "    <tr>\n",
              "      <th>4</th>\n",
              "      <td>2019-07-02</td>\n",
              "      <td>10588.683594</td>\n",
              "      <td>10912.188477</td>\n",
              "      <td>9737.884766</td>\n",
              "      <td>10801.677734</td>\n",
              "      <td>10801.677734</td>\n",
              "      <td>3.101590e+10</td>\n",
              "    </tr>\n",
              "    <tr>\n",
              "      <th>...</th>\n",
              "      <td>...</td>\n",
              "      <td>...</td>\n",
              "      <td>...</td>\n",
              "      <td>...</td>\n",
              "      <td>...</td>\n",
              "      <td>...</td>\n",
              "      <td>...</td>\n",
              "    </tr>\n",
              "    <tr>\n",
              "      <th>362</th>\n",
              "      <td>2020-06-24</td>\n",
              "      <td>9632.149414</td>\n",
              "      <td>9680.367188</td>\n",
              "      <td>9278.233398</td>\n",
              "      <td>9313.610352</td>\n",
              "      <td>9313.610352</td>\n",
              "      <td>1.896172e+10</td>\n",
              "    </tr>\n",
              "    <tr>\n",
              "      <th>363</th>\n",
              "      <td>2020-06-25</td>\n",
              "      <td>9314.126953</td>\n",
              "      <td>9340.161133</td>\n",
              "      <td>9095.324219</td>\n",
              "      <td>9264.813477</td>\n",
              "      <td>9264.813477</td>\n",
              "      <td>1.861605e+10</td>\n",
              "    </tr>\n",
              "    <tr>\n",
              "      <th>364</th>\n",
              "      <td>2020-06-26</td>\n",
              "      <td>9260.995117</td>\n",
              "      <td>9310.516602</td>\n",
              "      <td>9101.738281</td>\n",
              "      <td>9162.917969</td>\n",
              "      <td>9162.917969</td>\n",
              "      <td>1.834147e+10</td>\n",
              "    </tr>\n",
              "    <tr>\n",
              "      <th>365</th>\n",
              "      <td>2020-06-27</td>\n",
              "      <td>NaN</td>\n",
              "      <td>NaN</td>\n",
              "      <td>NaN</td>\n",
              "      <td>NaN</td>\n",
              "      <td>NaN</td>\n",
              "      <td>NaN</td>\n",
              "    </tr>\n",
              "    <tr>\n",
              "      <th>366</th>\n",
              "      <td>2020-06-28</td>\n",
              "      <td>9053.854492</td>\n",
              "      <td>9196.186523</td>\n",
              "      <td>8975.942383</td>\n",
              "      <td>9152.287109</td>\n",
              "      <td>9152.287109</td>\n",
              "      <td>1.685739e+10</td>\n",
              "    </tr>\n",
              "  </tbody>\n",
              "</table>\n",
              "<p>367 rows × 7 columns</p>\n",
              "</div>"
            ],
            "text/plain": [
              "           Date          Open  ...     Adj Close        Volume\n",
              "0    2019-06-28  11162.167969  ...  12407.332031  3.508776e+10\n",
              "1    2019-06-29  12400.763672  ...  11959.371094  2.992396e+10\n",
              "2    2019-06-30  11931.991211  ...  10817.155273  2.725647e+10\n",
              "3    2019-07-01  10796.930664  ...  10583.134766  2.937859e+10\n",
              "4    2019-07-02  10588.683594  ...  10801.677734  3.101590e+10\n",
              "..          ...           ...  ...           ...           ...\n",
              "362  2020-06-24   9632.149414  ...   9313.610352  1.896172e+10\n",
              "363  2020-06-25   9314.126953  ...   9264.813477  1.861605e+10\n",
              "364  2020-06-26   9260.995117  ...   9162.917969  1.834147e+10\n",
              "365  2020-06-27           NaN  ...           NaN           NaN\n",
              "366  2020-06-28   9053.854492  ...   9152.287109  1.685739e+10\n",
              "\n",
              "[367 rows x 7 columns]"
            ]
          },
          "metadata": {
            "tags": []
          },
          "execution_count": 52
        }
      ]
    },
    {
      "cell_type": "code",
      "metadata": {
        "id": "I9RK9G3vIEy1",
        "colab_type": "code",
        "colab": {
          "base_uri": "https://localhost:8080/",
          "height": 504
        },
        "outputId": "70579147-a349-4f35-cacd-77effe1e6087"
      },
      "source": [
        "plt.figure(figsize=(12, 8))\n",
        "sns.heatmap(df.isnull(), cmap='viridis', cbar=True)"
      ],
      "execution_count": 53,
      "outputs": [
        {
          "output_type": "execute_result",
          "data": {
            "text/plain": [
              "<matplotlib.axes._subplots.AxesSubplot at 0x7f945d76acc0>"
            ]
          },
          "metadata": {
            "tags": []
          },
          "execution_count": 53
        },
        {
          "output_type": "display_data",
          "data": {
            "image/png": "[encoded data removed]",
            "text/plain": [
              "<Figure size 864x576 with 2 Axes>"
            ]
          },
          "metadata": {
            "tags": [],
            "needs_background": "light"
          }
        }
      ]
    },
    {
      "cell_type": "code",
      "metadata": {
        "id": "Uuh7Rv3rIVrH",
        "colab_type": "code",
        "colab": {
          "base_uri": "https://localhost:8080/",
          "height": 406
        },
        "outputId": "a4084837-487f-4549-abe9-1c7bcc62fa3b"
      },
      "source": [
        "df.dropna()"
      ],
      "execution_count": 54,
      "outputs": [
        {
          "output_type": "execute_result",
          "data": {
            "text/html": [
              "<div>\n",
              "<style scoped>\n",
              "    .dataframe tbody tr th:only-of-type {\n",
              "        vertical-align: middle;\n",
              "    }\n",
              "\n",
              "    .dataframe tbody tr th {\n",
              "        vertical-align: top;\n",
              "    }\n",
              "\n",
              "    .dataframe thead th {\n",
              "        text-align: right;\n",
              "    }\n",
              "</style>\n",
              "<table border=\"1\" class=\"dataframe\">\n",
              "  <thead>\n",
              "    <tr style=\"text-align: right;\">\n",
              "      <th></th>\n",
              "      <th>Date</th>\n",
              "      <th>Open</th>\n",
              "      <th>High</th>\n",
              "      <th>Low</th>\n",
              "      <th>Close</th>\n",
              "      <th>Adj Close</th>\n",
              "      <th>Volume</th>\n",
              "    </tr>\n",
              "  </thead>\n",
              "  <tbody>\n",
              "    <tr>\n",
              "      <th>0</th>\n",
              "      <td>2019-06-28</td>\n",
              "      <td>11162.167969</td>\n",
              "      <td>12445.174805</td>\n",
              "      <td>10914.495117</td>\n",
              "      <td>12407.332031</td>\n",
              "      <td>12407.332031</td>\n",
              "      <td>3.508776e+10</td>\n",
              "    </tr>\n",
              "    <tr>\n",
              "      <th>1</th>\n",
              "      <td>2019-06-29</td>\n",
              "      <td>12400.763672</td>\n",
              "      <td>12400.910156</td>\n",
              "      <td>11508.378906</td>\n",
              "      <td>11959.371094</td>\n",
              "      <td>11959.371094</td>\n",
              "      <td>2.992396e+10</td>\n",
              "    </tr>\n",
              "    <tr>\n",
              "      <th>2</th>\n",
              "      <td>2019-06-30</td>\n",
              "      <td>11931.991211</td>\n",
              "      <td>12178.383789</td>\n",
              "      <td>10799.008789</td>\n",
              "      <td>10817.155273</td>\n",
              "      <td>10817.155273</td>\n",
              "      <td>2.725647e+10</td>\n",
              "    </tr>\n",
              "    <tr>\n",
              "      <th>3</th>\n",
              "      <td>2019-07-01</td>\n",
              "      <td>10796.930664</td>\n",
              "      <td>11206.439453</td>\n",
              "      <td>10089.314453</td>\n",
              "      <td>10583.134766</td>\n",
              "      <td>10583.134766</td>\n",
              "      <td>2.937859e+10</td>\n",
              "    </tr>\n",
              "    <tr>\n",
              "      <th>4</th>\n",
              "      <td>2019-07-02</td>\n",
              "      <td>10588.683594</td>\n",
              "      <td>10912.188477</td>\n",
              "      <td>9737.884766</td>\n",
              "      <td>10801.677734</td>\n",
              "      <td>10801.677734</td>\n",
              "      <td>3.101590e+10</td>\n",
              "    </tr>\n",
              "    <tr>\n",
              "      <th>...</th>\n",
              "      <td>...</td>\n",
              "      <td>...</td>\n",
              "      <td>...</td>\n",
              "      <td>...</td>\n",
              "      <td>...</td>\n",
              "      <td>...</td>\n",
              "      <td>...</td>\n",
              "    </tr>\n",
              "    <tr>\n",
              "      <th>361</th>\n",
              "      <td>2020-06-23</td>\n",
              "      <td>9644.076172</td>\n",
              "      <td>9670.541016</td>\n",
              "      <td>9547.247070</td>\n",
              "      <td>9629.658203</td>\n",
              "      <td>9629.658203</td>\n",
              "      <td>1.700643e+10</td>\n",
              "    </tr>\n",
              "    <tr>\n",
              "      <th>362</th>\n",
              "      <td>2020-06-24</td>\n",
              "      <td>9632.149414</td>\n",
              "      <td>9680.367188</td>\n",
              "      <td>9278.233398</td>\n",
              "      <td>9313.610352</td>\n",
              "      <td>9313.610352</td>\n",
              "      <td>1.896172e+10</td>\n",
              "    </tr>\n",
              "    <tr>\n",
              "      <th>363</th>\n",
              "      <td>2020-06-25</td>\n",
              "      <td>9314.126953</td>\n",
              "      <td>9340.161133</td>\n",
              "      <td>9095.324219</td>\n",
              "      <td>9264.813477</td>\n",
              "      <td>9264.813477</td>\n",
              "      <td>1.861605e+10</td>\n",
              "    </tr>\n",
              "    <tr>\n",
              "      <th>364</th>\n",
              "      <td>2020-06-26</td>\n",
              "      <td>9260.995117</td>\n",
              "      <td>9310.516602</td>\n",
              "      <td>9101.738281</td>\n",
              "      <td>9162.917969</td>\n",
              "      <td>9162.917969</td>\n",
              "      <td>1.834147e+10</td>\n",
              "    </tr>\n",
              "    <tr>\n",
              "      <th>366</th>\n",
              "      <td>2020-06-28</td>\n",
              "      <td>9053.854492</td>\n",
              "      <td>9196.186523</td>\n",
              "      <td>8975.942383</td>\n",
              "      <td>9152.287109</td>\n",
              "      <td>9152.287109</td>\n",
              "      <td>1.685739e+10</td>\n",
              "    </tr>\n",
              "  </tbody>\n",
              "</table>\n",
              "<p>366 rows × 7 columns</p>\n",
              "</div>"
            ],
            "text/plain": [
              "           Date          Open  ...     Adj Close        Volume\n",
              "0    2019-06-28  11162.167969  ...  12407.332031  3.508776e+10\n",
              "1    2019-06-29  12400.763672  ...  11959.371094  2.992396e+10\n",
              "2    2019-06-30  11931.991211  ...  10817.155273  2.725647e+10\n",
              "3    2019-07-01  10796.930664  ...  10583.134766  2.937859e+10\n",
              "4    2019-07-02  10588.683594  ...  10801.677734  3.101590e+10\n",
              "..          ...           ...  ...           ...           ...\n",
              "361  2020-06-23   9644.076172  ...   9629.658203  1.700643e+10\n",
              "362  2020-06-24   9632.149414  ...   9313.610352  1.896172e+10\n",
              "363  2020-06-25   9314.126953  ...   9264.813477  1.861605e+10\n",
              "364  2020-06-26   9260.995117  ...   9162.917969  1.834147e+10\n",
              "366  2020-06-28   9053.854492  ...   9152.287109  1.685739e+10\n",
              "\n",
              "[366 rows x 7 columns]"
            ]
          },
          "metadata": {
            "tags": []
          },
          "execution_count": 54
        }
      ]
    },
    {
      "cell_type": "code",
      "metadata": {
        "id": "rC6dtvWYIZrV",
        "colab_type": "code",
        "colab": {}
      },
      "source": [
        "def format(x):\n",
        "  return \"{:.2f}\".format(x)"
      ],
      "execution_count": 55,
      "outputs": []
    },
    {
      "cell_type": "code",
      "metadata": {
        "id": "J1gN8sZeIt2I",
        "colab_type": "code",
        "colab": {}
      },
      "source": [
        "df['Open'] = df['Open'].apply(format)\n",
        "df['High'] = df['High'].apply(format)\n",
        "df['Low'] = df['Low'].apply(format)\n",
        "df['Close'] = df['Close'].apply(format)\n",
        "df['Adj Close'] = df['Adj Close'].apply(format)"
      ],
      "execution_count": 56,
      "outputs": []
    },
    {
      "cell_type": "code",
      "metadata": {
        "id": "gD0ffjpQI-F2",
        "colab_type": "code",
        "colab": {
          "base_uri": "https://localhost:8080/",
          "height": 406
        },
        "outputId": "8b3b92cb-f9f0-40d1-bb5b-3dc1fff867a5"
      },
      "source": [
        "df"
      ],
      "execution_count": 57,
      "outputs": [
        {
          "output_type": "execute_result",
          "data": {
            "text/html": [
              "<div>\n",
              "<style scoped>\n",
              "    .dataframe tbody tr th:only-of-type {\n",
              "        vertical-align: middle;\n",
              "    }\n",
              "\n",
              "    .dataframe tbody tr th {\n",
              "        vertical-align: top;\n",
              "    }\n",
              "\n",
              "    .dataframe thead th {\n",
              "        text-align: right;\n",
              "    }\n",
              "</style>\n",
              "<table border=\"1\" class=\"dataframe\">\n",
              "  <thead>\n",
              "    <tr style=\"text-align: right;\">\n",
              "      <th></th>\n",
              "      <th>Date</th>\n",
              "      <th>Open</th>\n",
              "      <th>High</th>\n",
              "      <th>Low</th>\n",
              "      <th>Close</th>\n",
              "      <th>Adj Close</th>\n",
              "      <th>Volume</th>\n",
              "    </tr>\n",
              "  </thead>\n",
              "  <tbody>\n",
              "    <tr>\n",
              "      <th>0</th>\n",
              "      <td>2019-06-28</td>\n",
              "      <td>11162.17</td>\n",
              "      <td>12445.17</td>\n",
              "      <td>10914.50</td>\n",
              "      <td>12407.33</td>\n",
              "      <td>12407.33</td>\n",
              "      <td>3.508776e+10</td>\n",
              "    </tr>\n",
              "    <tr>\n",
              "      <th>1</th>\n",
              "      <td>2019-06-29</td>\n",
              "      <td>12400.76</td>\n",
              "      <td>12400.91</td>\n",
              "      <td>11508.38</td>\n",
              "      <td>11959.37</td>\n",
              "      <td>11959.37</td>\n",
              "      <td>2.992396e+10</td>\n",
              "    </tr>\n",
              "    <tr>\n",
              "      <th>2</th>\n",
              "      <td>2019-06-30</td>\n",
              "      <td>11931.99</td>\n",
              "      <td>12178.38</td>\n",
              "      <td>10799.01</td>\n",
              "      <td>10817.16</td>\n",
              "      <td>10817.16</td>\n",
              "      <td>2.725647e+10</td>\n",
              "    </tr>\n",
              "    <tr>\n",
              "      <th>3</th>\n",
              "      <td>2019-07-01</td>\n",
              "      <td>10796.93</td>\n",
              "      <td>11206.44</td>\n",
              "      <td>10089.31</td>\n",
              "      <td>10583.13</td>\n",
              "      <td>10583.13</td>\n",
              "      <td>2.937859e+10</td>\n",
              "    </tr>\n",
              "    <tr>\n",
              "      <th>4</th>\n",
              "      <td>2019-07-02</td>\n",
              "      <td>10588.68</td>\n",
              "      <td>10912.19</td>\n",
              "      <td>9737.88</td>\n",
              "      <td>10801.68</td>\n",
              "      <td>10801.68</td>\n",
              "      <td>3.101590e+10</td>\n",
              "    </tr>\n",
              "    <tr>\n",
              "      <th>...</th>\n",
              "      <td>...</td>\n",
              "      <td>...</td>\n",
              "      <td>...</td>\n",
              "      <td>...</td>\n",
              "      <td>...</td>\n",
              "      <td>...</td>\n",
              "      <td>...</td>\n",
              "    </tr>\n",
              "    <tr>\n",
              "      <th>362</th>\n",
              "      <td>2020-06-24</td>\n",
              "      <td>9632.15</td>\n",
              "      <td>9680.37</td>\n",
              "      <td>9278.23</td>\n",
              "      <td>9313.61</td>\n",
              "      <td>9313.61</td>\n",
              "      <td>1.896172e+10</td>\n",
              "    </tr>\n",
              "    <tr>\n",
              "      <th>363</th>\n",
              "      <td>2020-06-25</td>\n",
              "      <td>9314.13</td>\n",
              "      <td>9340.16</td>\n",
              "      <td>9095.32</td>\n",
              "      <td>9264.81</td>\n",
              "      <td>9264.81</td>\n",
              "      <td>1.861605e+10</td>\n",
              "    </tr>\n",
              "    <tr>\n",
              "      <th>364</th>\n",
              "      <td>2020-06-26</td>\n",
              "      <td>9261.00</td>\n",
              "      <td>9310.52</td>\n",
              "      <td>9101.74</td>\n",
              "      <td>9162.92</td>\n",
              "      <td>9162.92</td>\n",
              "      <td>1.834147e+10</td>\n",
              "    </tr>\n",
              "    <tr>\n",
              "      <th>365</th>\n",
              "      <td>2020-06-27</td>\n",
              "      <td>nan</td>\n",
              "      <td>nan</td>\n",
              "      <td>nan</td>\n",
              "      <td>nan</td>\n",
              "      <td>nan</td>\n",
              "      <td>NaN</td>\n",
              "    </tr>\n",
              "    <tr>\n",
              "      <th>366</th>\n",
              "      <td>2020-06-28</td>\n",
              "      <td>9053.85</td>\n",
              "      <td>9196.19</td>\n",
              "      <td>8975.94</td>\n",
              "      <td>9152.29</td>\n",
              "      <td>9152.29</td>\n",
              "      <td>1.685739e+10</td>\n",
              "    </tr>\n",
              "  </tbody>\n",
              "</table>\n",
              "<p>367 rows × 7 columns</p>\n",
              "</div>"
            ],
            "text/plain": [
              "           Date      Open      High       Low     Close Adj Close        Volume\n",
              "0    2019-06-28  11162.17  12445.17  10914.50  12407.33  12407.33  3.508776e+10\n",
              "1    2019-06-29  12400.76  12400.91  11508.38  11959.37  11959.37  2.992396e+10\n",
              "2    2019-06-30  11931.99  12178.38  10799.01  10817.16  10817.16  2.725647e+10\n",
              "3    2019-07-01  10796.93  11206.44  10089.31  10583.13  10583.13  2.937859e+10\n",
              "4    2019-07-02  10588.68  10912.19   9737.88  10801.68  10801.68  3.101590e+10\n",
              "..          ...       ...       ...       ...       ...       ...           ...\n",
              "362  2020-06-24   9632.15   9680.37   9278.23   9313.61   9313.61  1.896172e+10\n",
              "363  2020-06-25   9314.13   9340.16   9095.32   9264.81   9264.81  1.861605e+10\n",
              "364  2020-06-26   9261.00   9310.52   9101.74   9162.92   9162.92  1.834147e+10\n",
              "365  2020-06-27       nan       nan       nan       nan       nan           NaN\n",
              "366  2020-06-28   9053.85   9196.19   8975.94   9152.29   9152.29  1.685739e+10\n",
              "\n",
              "[367 rows x 7 columns]"
            ]
          },
          "metadata": {
            "tags": []
          },
          "execution_count": 57
        }
      ]
    },
    {
      "cell_type": "code",
      "metadata": {
        "id": "taO5FRfYJB4F",
        "colab_type": "code",
        "colab": {
          "base_uri": "https://localhost:8080/",
          "height": 504
        },
        "outputId": "7d4b4364-464a-485d-eb29-6998bb05f7c0"
      },
      "source": [
        "plt.figure(figsize=(12, 8))\n",
        "sns.heatmap(df.isnull(), cmap='viridis', cbar=True)"
      ],
      "execution_count": 58,
      "outputs": [
        {
          "output_type": "execute_result",
          "data": {
            "text/plain": [
              "<matplotlib.axes._subplots.AxesSubplot at 0x7f943d3d9908>"
            ]
          },
          "metadata": {
            "tags": []
          },
          "execution_count": 58
        },
        {
          "output_type": "display_data",
          "data": {
            "image/png": "[encoded data removed]",
            "text/plain": [
              "<Figure size 864x576 with 2 Axes>"
            ]
          },
          "metadata": {
            "tags": [],
            "needs_background": "light"
          }
        }
      ]
    },
    {
      "cell_type": "code",
      "metadata": {
        "id": "i8PnsX3BJ-L4",
        "colab_type": "code",
        "colab": {
          "base_uri": "https://localhost:8080/",
          "height": 406
        },
        "outputId": "7cd31072-f21c-40df-c0b1-5871ca91f096"
      },
      "source": [
        "df.dropna()"
      ],
      "execution_count": 59,
      "outputs": [
        {
          "output_type": "execute_result",
          "data": {
            "text/html": [
              "<div>\n",
              "<style scoped>\n",
              "    .dataframe tbody tr th:only-of-type {\n",
              "        vertical-align: middle;\n",
              "    }\n",
              "\n",
              "    .dataframe tbody tr th {\n",
              "        vertical-align: top;\n",
              "    }\n",
              "\n",
              "    .dataframe thead th {\n",
              "        text-align: right;\n",
              "    }\n",
              "</style>\n",
              "<table border=\"1\" class=\"dataframe\">\n",
              "  <thead>\n",
              "    <tr style=\"text-align: right;\">\n",
              "      <th></th>\n",
              "      <th>Date</th>\n",
              "      <th>Open</th>\n",
              "      <th>High</th>\n",
              "      <th>Low</th>\n",
              "      <th>Close</th>\n",
              "      <th>Adj Close</th>\n",
              "      <th>Volume</th>\n",
              "    </tr>\n",
              "  </thead>\n",
              "  <tbody>\n",
              "    <tr>\n",
              "      <th>0</th>\n",
              "      <td>2019-06-28</td>\n",
              "      <td>11162.17</td>\n",
              "      <td>12445.17</td>\n",
              "      <td>10914.50</td>\n",
              "      <td>12407.33</td>\n",
              "      <td>12407.33</td>\n",
              "      <td>3.508776e+10</td>\n",
              "    </tr>\n",
              "    <tr>\n",
              "      <th>1</th>\n",
              "      <td>2019-06-29</td>\n",
              "      <td>12400.76</td>\n",
              "      <td>12400.91</td>\n",
              "      <td>11508.38</td>\n",
              "      <td>11959.37</td>\n",
              "      <td>11959.37</td>\n",
              "      <td>2.992396e+10</td>\n",
              "    </tr>\n",
              "    <tr>\n",
              "      <th>2</th>\n",
              "      <td>2019-06-30</td>\n",
              "      <td>11931.99</td>\n",
              "      <td>12178.38</td>\n",
              "      <td>10799.01</td>\n",
              "      <td>10817.16</td>\n",
              "      <td>10817.16</td>\n",
              "      <td>2.725647e+10</td>\n",
              "    </tr>\n",
              "    <tr>\n",
              "      <th>3</th>\n",
              "      <td>2019-07-01</td>\n",
              "      <td>10796.93</td>\n",
              "      <td>11206.44</td>\n",
              "      <td>10089.31</td>\n",
              "      <td>10583.13</td>\n",
              "      <td>10583.13</td>\n",
              "      <td>2.937859e+10</td>\n",
              "    </tr>\n",
              "    <tr>\n",
              "      <th>4</th>\n",
              "      <td>2019-07-02</td>\n",
              "      <td>10588.68</td>\n",
              "      <td>10912.19</td>\n",
              "      <td>9737.88</td>\n",
              "      <td>10801.68</td>\n",
              "      <td>10801.68</td>\n",
              "      <td>3.101590e+10</td>\n",
              "    </tr>\n",
              "    <tr>\n",
              "      <th>...</th>\n",
              "      <td>...</td>\n",
              "      <td>...</td>\n",
              "      <td>...</td>\n",
              "      <td>...</td>\n",
              "      <td>...</td>\n",
              "      <td>...</td>\n",
              "      <td>...</td>\n",
              "    </tr>\n",
              "    <tr>\n",
              "      <th>361</th>\n",
              "      <td>2020-06-23</td>\n",
              "      <td>9644.08</td>\n",
              "      <td>9670.54</td>\n",
              "      <td>9547.25</td>\n",
              "      <td>9629.66</td>\n",
              "      <td>9629.66</td>\n",
              "      <td>1.700643e+10</td>\n",
              "    </tr>\n",
              "    <tr>\n",
              "      <th>362</th>\n",
              "      <td>2020-06-24</td>\n",
              "      <td>9632.15</td>\n",
              "      <td>9680.37</td>\n",
              "      <td>9278.23</td>\n",
              "      <td>9313.61</td>\n",
              "      <td>9313.61</td>\n",
              "      <td>1.896172e+10</td>\n",
              "    </tr>\n",
              "    <tr>\n",
              "      <th>363</th>\n",
              "      <td>2020-06-25</td>\n",
              "      <td>9314.13</td>\n",
              "      <td>9340.16</td>\n",
              "      <td>9095.32</td>\n",
              "      <td>9264.81</td>\n",
              "      <td>9264.81</td>\n",
              "      <td>1.861605e+10</td>\n",
              "    </tr>\n",
              "    <tr>\n",
              "      <th>364</th>\n",
              "      <td>2020-06-26</td>\n",
              "      <td>9261.00</td>\n",
              "      <td>9310.52</td>\n",
              "      <td>9101.74</td>\n",
              "      <td>9162.92</td>\n",
              "      <td>9162.92</td>\n",
              "      <td>1.834147e+10</td>\n",
              "    </tr>\n",
              "    <tr>\n",
              "      <th>366</th>\n",
              "      <td>2020-06-28</td>\n",
              "      <td>9053.85</td>\n",
              "      <td>9196.19</td>\n",
              "      <td>8975.94</td>\n",
              "      <td>9152.29</td>\n",
              "      <td>9152.29</td>\n",
              "      <td>1.685739e+10</td>\n",
              "    </tr>\n",
              "  </tbody>\n",
              "</table>\n",
              "<p>366 rows × 7 columns</p>\n",
              "</div>"
            ],
            "text/plain": [
              "           Date      Open      High       Low     Close Adj Close        Volume\n",
              "0    2019-06-28  11162.17  12445.17  10914.50  12407.33  12407.33  3.508776e+10\n",
              "1    2019-06-29  12400.76  12400.91  11508.38  11959.37  11959.37  2.992396e+10\n",
              "2    2019-06-30  11931.99  12178.38  10799.01  10817.16  10817.16  2.725647e+10\n",
              "3    2019-07-01  10796.93  11206.44  10089.31  10583.13  10583.13  2.937859e+10\n",
              "4    2019-07-02  10588.68  10912.19   9737.88  10801.68  10801.68  3.101590e+10\n",
              "..          ...       ...       ...       ...       ...       ...           ...\n",
              "361  2020-06-23   9644.08   9670.54   9547.25   9629.66   9629.66  1.700643e+10\n",
              "362  2020-06-24   9632.15   9680.37   9278.23   9313.61   9313.61  1.896172e+10\n",
              "363  2020-06-25   9314.13   9340.16   9095.32   9264.81   9264.81  1.861605e+10\n",
              "364  2020-06-26   9261.00   9310.52   9101.74   9162.92   9162.92  1.834147e+10\n",
              "366  2020-06-28   9053.85   9196.19   8975.94   9152.29   9152.29  1.685739e+10\n",
              "\n",
              "[366 rows x 7 columns]"
            ]
          },
          "metadata": {
            "tags": []
          },
          "execution_count": 59
        }
      ]
    },
    {
      "cell_type": "code",
      "metadata": {
        "id": "yL22uPYIKCF7",
        "colab_type": "code",
        "colab": {}
      },
      "source": [
        "df.to_csv('dataset.csv')"
      ],
      "execution_count": 60,
      "outputs": []
    }
  ]
}