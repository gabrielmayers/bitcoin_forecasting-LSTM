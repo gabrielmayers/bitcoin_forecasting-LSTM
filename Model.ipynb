{
  "nbformat": 4,
  "nbformat_minor": 0,
  "metadata": {
    "colab": {
      "name": "Model.ipynb",
      "provenance": []
    },
    "kernelspec": {
      "name": "python3",
      "display_name": "Python 3"
    },
    "accelerator": "GPU"
  },
  "cells": [
    {
      "cell_type": "code",
      "metadata": {
        "id": "WVLh5amDQ6Tk",
        "colab_type": "code",
        "colab": {}
      },
      "source": [
        "import numpy as np\n",
        "import pandas as pd\n",
        "import tensorflow as tf"
      ],
      "execution_count": 8,
      "outputs": []
    },
    {
      "cell_type": "code",
      "metadata": {
        "id": "bbS-7OscRzPW",
        "colab_type": "code",
        "colab": {
          "resources": {
            "http://localhost:8080/nbextensions/google.colab/files.js": {
              "data": "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",
              "ok": true,
              "headers": [
                [
                  "content-type",
                  "application/javascript"
                ]
              ],
              "status": 200,
              "status_text": ""
            }
          },
          "base_uri": "https://localhost:8080/",
          "height": 73
        },
        "outputId": "029f8211-0630-4f8e-de12-eb7dbe105b11"
      },
      "source": [
        "from google.colab import files\n",
        "uploaded = files.upload()"
      ],
      "execution_count": 9,
      "outputs": [
        {
          "output_type": "display_data",
          "data": {
            "text/html": [
              "\n",
              "     <input type=\"file\" id=\"files-b8114c7f-78a3-4426-bfc7-eb0152bcc160\" name=\"files[]\" multiple disabled\n",
              "        style=\"border:none\" />\n",
              "     <output id=\"result-b8114c7f-78a3-4426-bfc7-eb0152bcc160\">\n",
              "      Upload widget is only available when the cell has been executed in the\n",
              "      current browser session. Please rerun this cell to enable.\n",
              "      </output>\n",
              "      <script src=\"/nbextensions/google.colab/files.js\"></script> "
            ],
            "text/plain": [
              "<IPython.core.display.HTML object>"
            ]
          },
          "metadata": {
            "tags": []
          }
        },
        {
          "output_type": "stream",
          "text": [
            "Saving dataset.csv to dataset.csv\n"
          ],
          "name": "stdout"
        }
      ]
    },
    {
      "cell_type": "code",
      "metadata": {
        "id": "RQdKmPs6SG0G",
        "colab_type": "code",
        "colab": {}
      },
      "source": [
        "import io\n",
        "df = pd.read_csv(io.BytesIO(uploaded['dataset.csv']))"
      ],
      "execution_count": 10,
      "outputs": []
    },
    {
      "cell_type": "code",
      "metadata": {
        "id": "SheEwIqhSL68",
        "colab_type": "code",
        "colab": {
          "base_uri": "https://localhost:8080/",
          "height": 406
        },
        "outputId": "2755cb66-222f-4ed2-afd5-b77923ccbff7"
      },
      "source": [
        "df"
      ],
      "execution_count": 11,
      "outputs": [
        {
          "output_type": "execute_result",
          "data": {
            "text/html": [
              "<div>\n",
              "<style scoped>\n",
              "    .dataframe tbody tr th:only-of-type {\n",
              "        vertical-align: middle;\n",
              "    }\n",
              "\n",
              "    .dataframe tbody tr th {\n",
              "        vertical-align: top;\n",
              "    }\n",
              "\n",
              "    .dataframe thead th {\n",
              "        text-align: right;\n",
              "    }\n",
              "</style>\n",
              "<table border=\"1\" class=\"dataframe\">\n",
              "  <thead>\n",
              "    <tr style=\"text-align: right;\">\n",
              "      <th></th>\n",
              "      <th>Unnamed: 0</th>\n",
              "      <th>Date</th>\n",
              "      <th>Open</th>\n",
              "      <th>High</th>\n",
              "      <th>Low</th>\n",
              "      <th>Close</th>\n",
              "      <th>Adj Close</th>\n",
              "      <th>Volume</th>\n",
              "    </tr>\n",
              "  </thead>\n",
              "  <tbody>\n",
              "    <tr>\n",
              "      <th>0</th>\n",
              "      <td>0</td>\n",
              "      <td>2019-06-28</td>\n",
              "      <td>11162.17</td>\n",
              "      <td>12445.17</td>\n",
              "      <td>10914.50</td>\n",
              "      <td>12407.33</td>\n",
              "      <td>12407.33</td>\n",
              "      <td>3.508776e+10</td>\n",
              "    </tr>\n",
              "    <tr>\n",
              "      <th>1</th>\n",
              "      <td>1</td>\n",
              "      <td>2019-06-29</td>\n",
              "      <td>12400.76</td>\n",
              "      <td>12400.91</td>\n",
              "      <td>11508.38</td>\n",
              "      <td>11959.37</td>\n",
              "      <td>11959.37</td>\n",
              "      <td>2.992396e+10</td>\n",
              "    </tr>\n",
              "    <tr>\n",
              "      <th>2</th>\n",
              "      <td>2</td>\n",
              "      <td>2019-06-30</td>\n",
              "      <td>11931.99</td>\n",
              "      <td>12178.38</td>\n",
              "      <td>10799.01</td>\n",
              "      <td>10817.16</td>\n",
              "      <td>10817.16</td>\n",
              "      <td>2.725647e+10</td>\n",
              "    </tr>\n",
              "    <tr>\n",
              "      <th>3</th>\n",
              "      <td>3</td>\n",
              "      <td>2019-07-01</td>\n",
              "      <td>10796.93</td>\n",
              "      <td>11206.44</td>\n",
              "      <td>10089.31</td>\n",
              "      <td>10583.13</td>\n",
              "      <td>10583.13</td>\n",
              "      <td>2.937859e+10</td>\n",
              "    </tr>\n",
              "    <tr>\n",
              "      <th>4</th>\n",
              "      <td>4</td>\n",
              "      <td>2019-07-02</td>\n",
              "      <td>10588.68</td>\n",
              "      <td>10912.19</td>\n",
              "      <td>9737.88</td>\n",
              "      <td>10801.68</td>\n",
              "      <td>10801.68</td>\n",
              "      <td>3.101590e+10</td>\n",
              "    </tr>\n",
              "    <tr>\n",
              "      <th>...</th>\n",
              "      <td>...</td>\n",
              "      <td>...</td>\n",
              "      <td>...</td>\n",
              "      <td>...</td>\n",
              "      <td>...</td>\n",
              "      <td>...</td>\n",
              "      <td>...</td>\n",
              "      <td>...</td>\n",
              "    </tr>\n",
              "    <tr>\n",
              "      <th>362</th>\n",
              "      <td>362</td>\n",
              "      <td>2020-06-24</td>\n",
              "      <td>9632.15</td>\n",
              "      <td>9680.37</td>\n",
              "      <td>9278.23</td>\n",
              "      <td>9313.61</td>\n",
              "      <td>9313.61</td>\n",
              "      <td>1.896172e+10</td>\n",
              "    </tr>\n",
              "    <tr>\n",
              "      <th>363</th>\n",
              "      <td>363</td>\n",
              "      <td>2020-06-25</td>\n",
              "      <td>9314.13</td>\n",
              "      <td>9340.16</td>\n",
              "      <td>9095.32</td>\n",
              "      <td>9264.81</td>\n",
              "      <td>9264.81</td>\n",
              "      <td>1.861605e+10</td>\n",
              "    </tr>\n",
              "    <tr>\n",
              "      <th>364</th>\n",
              "      <td>364</td>\n",
              "      <td>2020-06-26</td>\n",
              "      <td>9261.00</td>\n",
              "      <td>9310.52</td>\n",
              "      <td>9101.74</td>\n",
              "      <td>9162.92</td>\n",
              "      <td>9162.92</td>\n",
              "      <td>1.834147e+10</td>\n",
              "    </tr>\n",
              "    <tr>\n",
              "      <th>365</th>\n",
              "      <td>365</td>\n",
              "      <td>2020-06-27</td>\n",
              "      <td>NaN</td>\n",
              "      <td>NaN</td>\n",
              "      <td>NaN</td>\n",
              "      <td>NaN</td>\n",
              "      <td>NaN</td>\n",
              "      <td>NaN</td>\n",
              "    </tr>\n",
              "    <tr>\n",
              "      <th>366</th>\n",
              "      <td>366</td>\n",
              "      <td>2020-06-28</td>\n",
              "      <td>9053.85</td>\n",
              "      <td>9196.19</td>\n",
              "      <td>8975.94</td>\n",
              "      <td>9152.29</td>\n",
              "      <td>9152.29</td>\n",
              "      <td>1.685739e+10</td>\n",
              "    </tr>\n",
              "  </tbody>\n",
              "</table>\n",
              "<p>367 rows × 8 columns</p>\n",
              "</div>"
            ],
            "text/plain": [
              "     Unnamed: 0        Date      Open  ...     Close  Adj Close        Volume\n",
              "0             0  2019-06-28  11162.17  ...  12407.33   12407.33  3.508776e+10\n",
              "1             1  2019-06-29  12400.76  ...  11959.37   11959.37  2.992396e+10\n",
              "2             2  2019-06-30  11931.99  ...  10817.16   10817.16  2.725647e+10\n",
              "3             3  2019-07-01  10796.93  ...  10583.13   10583.13  2.937859e+10\n",
              "4             4  2019-07-02  10588.68  ...  10801.68   10801.68  3.101590e+10\n",
              "..          ...         ...       ...  ...       ...        ...           ...\n",
              "362         362  2020-06-24   9632.15  ...   9313.61    9313.61  1.896172e+10\n",
              "363         363  2020-06-25   9314.13  ...   9264.81    9264.81  1.861605e+10\n",
              "364         364  2020-06-26   9261.00  ...   9162.92    9162.92  1.834147e+10\n",
              "365         365  2020-06-27       NaN  ...       NaN        NaN           NaN\n",
              "366         366  2020-06-28   9053.85  ...   9152.29    9152.29  1.685739e+10\n",
              "\n",
              "[367 rows x 8 columns]"
            ]
          },
          "metadata": {
            "tags": []
          },
          "execution_count": 11
        }
      ]
    },
    {
      "cell_type": "code",
      "metadata": {
        "id": "ja-VfwCpTVLC",
        "colab_type": "code",
        "colab": {}
      },
      "source": [
        "df.drop(columns=['Unnamed: 0'], inplace=True)"
      ],
      "execution_count": 12,
      "outputs": []
    },
    {
      "cell_type": "code",
      "metadata": {
        "id": "ltKGYpzoSMWy",
        "colab_type": "code",
        "colab": {}
      },
      "source": [
        "# Data Splitting into train and test:\n",
        "\n",
        "train_data = df[:250]\n",
        "test_data = df[250:]"
      ],
      "execution_count": 13,
      "outputs": []
    },
    {
      "cell_type": "code",
      "metadata": {
        "id": "ynylY5xOTg00",
        "colab_type": "code",
        "colab": {
          "base_uri": "https://localhost:8080/",
          "height": 1000
        },
        "outputId": "b314dbb0-a1cb-4f11-dbaa-a763885db959"
      },
      "source": [
        "training_set = train_data.iloc[ :, 1:2].values\n",
        "training_set"
      ],
      "execution_count": 14,
      "outputs": [
        {
          "output_type": "execute_result",
          "data": {
            "text/plain": [
              "array([[11162.17],\n",
              "       [12400.76],\n",
              "       [11931.99],\n",
              "       [10796.93],\n",
              "       [10588.68],\n",
              "       [10818.16],\n",
              "       [11972.72],\n",
              "       [11203.1 ],\n",
              "       [10982.54],\n",
              "       [11217.62],\n",
              "       [11446.6 ],\n",
              "       [12284.33],\n",
              "       [12571.54],\n",
              "       [12139.71],\n",
              "       [11354.3 ],\n",
              "       [11813.13],\n",
              "       [11381.02],\n",
              "       [10257.84],\n",
              "       [10896.65],\n",
              "       [ 9471.21],\n",
              "       [ 9698.5 ],\n",
              "       [10653.96],\n",
              "       [10525.82],\n",
              "       [10777.53],\n",
              "       [10596.95],\n",
              "       [10346.75],\n",
              "       [ 9887.73],\n",
              "       [ 9809.1 ],\n",
              "       [ 9913.13],\n",
              "       [ 9871.17],\n",
              "       [ 9491.63],\n",
              "       [ 9548.18],\n",
              "       [ 9522.33],\n",
              "       [ 9604.05],\n",
              "       [10077.44],\n",
              "       [10402.04],\n",
              "       [10519.28],\n",
              "       [10821.63],\n",
              "       [10960.74],\n",
              "       [11811.54],\n",
              "       [11476.19],\n",
              "       [11954.04],\n",
              "       [11953.47],\n",
              "       [11861.56],\n",
              "       [11349.74],\n",
              "       [11528.19],\n",
              "       [11385.05],\n",
              "       [10889.49],\n",
              "       [10038.42],\n",
              "       [10319.42],\n",
              "       [10358.72],\n",
              "       [10233.01],\n",
              "       [10350.28],\n",
              "       [10916.35],\n",
              "       [10764.57],\n",
              "       [10142.52],\n",
              "       [10136.31],\n",
              "       [10407.64],\n",
              "       [10160.74],\n",
              "       [10126.3 ],\n",
              "       [10372.83],\n",
              "       [10203.43],\n",
              "       [ 9756.79],\n",
              "       [ 9514.84],\n",
              "       [ 9597.54],\n",
              "       [ 9630.59],\n",
              "       [ 9757.47],\n",
              "       [10345.73],\n",
              "       [10621.18],\n",
              "       [10588.18],\n",
              "       [10578.2 ],\n",
              "       [10353.93],\n",
              "       [10518.11],\n",
              "       [10443.23],\n",
              "       [10336.41],\n",
              "       [10123.04],\n",
              "       [10176.82],\n",
              "       [10415.36],\n",
              "       [10345.4 ],\n",
              "       [10356.47],\n",
              "       [10347.22],\n",
              "       [10281.51],\n",
              "       [10247.8 ],\n",
              "       [10200.5 ],\n",
              "       [10266.32],\n",
              "       [10183.65],\n",
              "       [10024.12],\n",
              "       [10067.96],\n",
              "       [ 9729.32],\n",
              "       [ 8603.43],\n",
              "       [ 8487.67],\n",
              "       [ 8113.1 ],\n",
              "       [ 8251.27],\n",
              "       [ 8246.04],\n",
              "       [ 8104.23],\n",
              "       [ 8299.72],\n",
              "       [ 8344.21],\n",
              "       [ 8390.77],\n",
              "       [ 8259.49],\n",
              "       [ 8210.15],\n",
              "       [ 8149.88],\n",
              "       [ 7989.12],\n",
              "       [ 8246.85],\n",
              "       [ 8229.84],\n",
              "       [ 8585.28],\n",
              "       [ 8585.26],\n",
              "       [ 8315.67],\n",
              "       [ 8336.9 ],\n",
              "       [ 8320.83],\n",
              "       [ 8373.46],\n",
              "       [ 8204.67],\n",
              "       [ 8047.81],\n",
              "       [ 8100.93],\n",
              "       [ 7973.8 ],\n",
              "       [ 7997.81],\n",
              "       [ 8225.12],\n",
              "       [ 8243.4 ],\n",
              "       [ 8076.23],\n",
              "       [ 7509.73],\n",
              "       [ 7490.7 ],\n",
              "       [ 8667.58],\n",
              "       [ 9241.71],\n",
              "       [ 9565.1 ],\n",
              "       [ 9248.44],\n",
              "       [ 9422.46],\n",
              "       [ 9202.46],\n",
              "       [ 9193.99],\n",
              "       [ 9259.78],\n",
              "       [ 9324.79],\n",
              "       [ 9235.61],\n",
              "       [ 9413.  ],\n",
              "       [ 9340.86],\n",
              "       [ 9352.39],\n",
              "       [ 9265.37],\n",
              "       [ 8809.47],\n",
              "       [ 8812.49],\n",
              "       [ 9056.92],\n",
              "       [ 8759.75],\n",
              "       [ 8812.03],\n",
              "       [ 8811.94],\n",
              "       [ 8705.71],\n",
              "       [ 8491.17],\n",
              "       [ 8549.47],\n",
              "       [ 8573.98],\n",
              "       [ 8305.13],\n",
              "       [ 8203.61],\n",
              "       [ 8023.64],\n",
              "       [ 7643.57],\n",
              "       [ 7296.16],\n",
              "       [ 7398.63],\n",
              "       [ 7039.98],\n",
              "       [ 7145.16],\n",
              "       [ 7220.88],\n",
              "       [ 7536.82],\n",
              "       [ 7466.73],\n",
              "       [ 7764.06],\n",
              "       [ 7571.62],\n",
              "       [ 7424.04],\n",
              "       [ 7323.98],\n",
              "       [ 7320.12],\n",
              "       [ 7253.24],\n",
              "       [ 7450.56],\n",
              "       [ 7547.27],\n",
              "       [ 7551.34],\n",
              "       [ 7561.8 ],\n",
              "       [ 7397.13],\n",
              "       [ 7277.2 ],\n",
              "       [ 7216.74],\n",
              "       [ 7244.66],\n",
              "       [ 7268.9 ],\n",
              "       [ 7124.24],\n",
              "       [ 7153.66],\n",
              "       [ 6931.32],\n",
              "       [ 6647.7 ],\n",
              "       [ 7277.59],\n",
              "       [ 7208.64],\n",
              "       [ 7220.59],\n",
              "       [ 7191.19],\n",
              "       [ 7508.9 ],\n",
              "       [ 7354.39],\n",
              "       [ 7325.76],\n",
              "       [ 7274.8 ],\n",
              "       [ 7238.14],\n",
              "       [ 7289.03],\n",
              "       [ 7317.65],\n",
              "       [ 7420.27],\n",
              "       [ 7294.44],\n",
              "       [ 7194.89],\n",
              "       [ 7202.55],\n",
              "       [ 6984.43],\n",
              "       [ 7345.38],\n",
              "       [ 7410.45],\n",
              "       [ 7410.45],\n",
              "       [ 7768.68],\n",
              "       [ 8161.94],\n",
              "       [ 8082.3 ],\n",
              "       [ 7878.31],\n",
              "       [ 8162.19],\n",
              "       [ 8033.26],\n",
              "       [ 8189.77],\n",
              "       [ 8140.93],\n",
              "       [ 8825.34],\n",
              "       [ 8812.48],\n",
              "       [ 8725.21],\n",
              "       [ 8927.21],\n",
              "       [ 8941.45],\n",
              "       [ 8704.63],\n",
              "       [ 8658.99],\n",
              "       [ 8744.21],\n",
              "       [ 8680.65],\n",
              "       [ 8405.57],\n",
              "       [ 8440.12],\n",
              "       [ 8364.41],\n",
              "       [ 8597.31],\n",
              "       [ 8912.52],\n",
              "       [ 9357.47],\n",
              "       [ 9316.02],\n",
              "       [ 9508.31],\n",
              "       [ 9346.36],\n",
              "       [ 9389.82],\n",
              "       [ 9344.68],\n",
              "       [ 9292.84],\n",
              "       [ 9183.42],\n",
              "       [ 9617.82],\n",
              "       [ 9726.  ],\n",
              "       [ 9793.07],\n",
              "       [ 9863.89],\n",
              "       [10115.56],\n",
              "       [ 9855.89],\n",
              "       [10202.39],\n",
              "       [10323.96],\n",
              "       [10211.55],\n",
              "       [10313.86],\n",
              "       [ 9889.18],\n",
              "       [ 9936.56],\n",
              "       [ 9691.23],\n",
              "       [10143.8 ],\n",
              "       [ 9629.33],\n",
              "       [ 9611.78],\n",
              "       [ 9687.71],\n",
              "       [ 9663.32],\n",
              "       [ 9921.58],\n",
              "       [ 9651.31],\n",
              "       [ 9338.29],\n",
              "       [ 8825.09],\n",
              "       [ 8788.73],\n",
              "       [ 8671.21],\n",
              "       [ 8599.76],\n",
              "       [ 8563.26],\n",
              "       [ 8865.39]])"
            ]
          },
          "metadata": {
            "tags": []
          },
          "execution_count": 14
        }
      ]
    },
    {
      "cell_type": "code",
      "metadata": {
        "id": "j-xCzZnXVD2V",
        "colab_type": "code",
        "colab": {
          "base_uri": "https://localhost:8080/",
          "height": 34
        },
        "outputId": "31042bf2-dcb0-448a-8ecd-14f542b7c0de"
      },
      "source": [
        "training_set.shape"
      ],
      "execution_count": 19,
      "outputs": [
        {
          "output_type": "execute_result",
          "data": {
            "text/plain": [
              "(250, 1)"
            ]
          },
          "metadata": {
            "tags": []
          },
          "execution_count": 19
        }
      ]
    },
    {
      "cell_type": "code",
      "metadata": {
        "id": "v2Ad0zCXTtpJ",
        "colab_type": "code",
        "colab": {}
      },
      "source": [
        "# Normalizing data values to scale between 0 and 1:\n",
        "\n",
        "from sklearn.preprocessing import MinMaxScaler\n",
        "\n",
        "sc = MinMaxScaler(feature_range=(0, 1))"
      ],
      "execution_count": 66,
      "outputs": []
    },
    {
      "cell_type": "code",
      "metadata": {
        "id": "JiOqWByQU2gY",
        "colab_type": "code",
        "colab": {}
      },
      "source": [
        "training_data_scaled = sc.fit_transform(training_set)"
      ],
      "execution_count": 67,
      "outputs": []
    },
    {
      "cell_type": "code",
      "metadata": {
        "id": "ZNy4ToZlU4yb",
        "colab_type": "code",
        "colab": {}
      },
      "source": [
        "X_train = []\n",
        "y_train = []\n",
        "\n",
        "for i in range(60, 250):\n",
        "  X_train.append(training_data_scaled[i-60: i, 0])\n",
        "  y_train.append(training_data_scaled[i, 0])\n",
        "\n",
        "X_train, y_train = np.array(X_train), np.array(y_train)"
      ],
      "execution_count": 68,
      "outputs": []
    },
    {
      "cell_type": "code",
      "metadata": {
        "id": "HbnydQeTVY6n",
        "colab_type": "code",
        "colab": {}
      },
      "source": [
        "X_train = np.reshape(X_train, (X_train.shape[0], X_train.shape[1], 1))"
      ],
      "execution_count": 69,
      "outputs": []
    },
    {
      "cell_type": "code",
      "metadata": {
        "id": "M0JaIkLBVjza",
        "colab_type": "code",
        "colab": {
          "base_uri": "https://localhost:8080/",
          "height": 478
        },
        "outputId": "d169034e-66c4-44d6-dac8-77435cb64291"
      },
      "source": [
        "# Model:\n",
        "\n",
        "model = tf.keras.models.Sequential()\n",
        "\n",
        "model.add(tf.keras.layers.LSTM(units=50, return_sequences=True, input_shape=(X_train.shape[1], 1)))\n",
        "\n",
        "model.add(tf.keras.layers.Dropout(0.2))\n",
        "\n",
        "model.add(tf.keras.layers.LSTM(units=50, return_sequences=True))\n",
        "\n",
        "model.add(tf.keras.layers.Dropout(0.2))\n",
        "\n",
        "model.add(tf.keras.layers.LSTM(units=50, return_sequences=True))\n",
        "\n",
        "model.add(tf.keras.layers.Dropout(0.2))\n",
        "\n",
        "model.add(tf.keras.layers.LSTM(units=50))\n",
        "\n",
        "model.add(tf.keras.layers.Dropout(0.2))\n",
        "\n",
        "model.add(tf.keras.layers.Dense(units=1))\n",
        "\n",
        "model.summary()"
      ],
      "execution_count": 70,
      "outputs": [
        {
          "output_type": "stream",
          "text": [
            "Model: \"sequential_3\"\n",
            "_________________________________________________________________\n",
            "Layer (type)                 Output Shape              Param #   \n",
            "=================================================================\n",
            "lstm_12 (LSTM)               (None, 60, 50)            10400     \n",
            "_________________________________________________________________\n",
            "dropout_12 (Dropout)         (None, 60, 50)            0         \n",
            "_________________________________________________________________\n",
            "lstm_13 (LSTM)               (None, 60, 50)            20200     \n",
            "_________________________________________________________________\n",
            "dropout_13 (Dropout)         (None, 60, 50)            0         \n",
            "_________________________________________________________________\n",
            "lstm_14 (LSTM)               (None, 60, 50)            20200     \n",
            "_________________________________________________________________\n",
            "dropout_14 (Dropout)         (None, 60, 50)            0         \n",
            "_________________________________________________________________\n",
            "lstm_15 (LSTM)               (None, 50)                20200     \n",
            "_________________________________________________________________\n",
            "dropout_15 (Dropout)         (None, 50)                0         \n",
            "_________________________________________________________________\n",
            "dense_3 (Dense)              (None, 1)                 51        \n",
            "=================================================================\n",
            "Total params: 71,051\n",
            "Trainable params: 71,051\n",
            "Non-trainable params: 0\n",
            "_________________________________________________________________\n"
          ],
          "name": "stdout"
        }
      ]
    },
    {
      "cell_type": "code",
      "metadata": {
        "id": "rLjsaj6mWEbL",
        "colab_type": "code",
        "colab": {}
      },
      "source": [
        "model.compile(loss='mean_squared_error',\n",
        "              optimizer='adam')"
      ],
      "execution_count": 71,
      "outputs": []
    },
    {
      "cell_type": "code",
      "metadata": {
        "id": "Sj-ulHn6WVZE",
        "colab_type": "code",
        "colab": {}
      },
      "source": [
        "# Early Stopping:\n",
        "\n",
        "es = tf.keras.callbacks.EarlyStopping(monitor='loss', patience=3)"
      ],
      "execution_count": 72,
      "outputs": []
    },
    {
      "cell_type": "code",
      "metadata": {
        "id": "0LRw5AXMWLXi",
        "colab_type": "code",
        "colab": {
          "base_uri": "https://localhost:8080/",
          "height": 1000
        },
        "outputId": "c03f7f5b-59c1-46ca-e749-1cb24b4aabf8"
      },
      "source": [
        "model_history = model.fit(X_train, y_train, epochs=50, batch_size=32, callbacks=[es])"
      ],
      "execution_count": 73,
      "outputs": [
        {
          "output_type": "stream",
          "text": [
            "Epoch 1/50\n",
            "6/6 [==============================] - 0s 16ms/step - loss: 0.0784\n",
            "Epoch 2/50\n",
            "6/6 [==============================] - 0s 15ms/step - loss: 0.0312\n",
            "Epoch 3/50\n",
            "6/6 [==============================] - 0s 15ms/step - loss: 0.0288\n",
            "Epoch 4/50\n",
            "6/6 [==============================] - 0s 12ms/step - loss: 0.0206\n",
            "Epoch 5/50\n",
            "6/6 [==============================] - 0s 11ms/step - loss: 0.0203\n",
            "Epoch 6/50\n",
            "6/6 [==============================] - 0s 11ms/step - loss: 0.0214\n",
            "Epoch 7/50\n",
            "6/6 [==============================] - 0s 11ms/step - loss: 0.0181\n",
            "Epoch 8/50\n",
            "6/6 [==============================] - 0s 11ms/step - loss: 0.0185\n",
            "Epoch 9/50\n",
            "6/6 [==============================] - 0s 11ms/step - loss: 0.0177\n",
            "Epoch 10/50\n",
            "6/6 [==============================] - 0s 11ms/step - loss: 0.0168\n",
            "Epoch 11/50\n",
            "6/6 [==============================] - 0s 11ms/step - loss: 0.0157\n",
            "Epoch 12/50\n",
            "6/6 [==============================] - 0s 11ms/step - loss: 0.0155\n",
            "Epoch 13/50\n",
            "6/6 [==============================] - 0s 13ms/step - loss: 0.0148\n",
            "Epoch 14/50\n",
            "6/6 [==============================] - 0s 11ms/step - loss: 0.0160\n",
            "Epoch 15/50\n",
            "6/6 [==============================] - 0s 12ms/step - loss: 0.0132\n",
            "Epoch 16/50\n",
            "6/6 [==============================] - 0s 12ms/step - loss: 0.0139\n",
            "Epoch 17/50\n",
            "6/6 [==============================] - 0s 11ms/step - loss: 0.0124\n",
            "Epoch 18/50\n",
            "6/6 [==============================] - 0s 11ms/step - loss: 0.0123\n",
            "Epoch 19/50\n",
            "6/6 [==============================] - 0s 11ms/step - loss: 0.0126\n",
            "Epoch 20/50\n",
            "6/6 [==============================] - 0s 11ms/step - loss: 0.0123\n",
            "Epoch 21/50\n",
            "6/6 [==============================] - 0s 11ms/step - loss: 0.0114\n",
            "Epoch 22/50\n",
            "6/6 [==============================] - 0s 13ms/step - loss: 0.0121\n",
            "Epoch 23/50\n",
            "6/6 [==============================] - 0s 13ms/step - loss: 0.0110\n",
            "Epoch 24/50\n",
            "6/6 [==============================] - 0s 14ms/step - loss: 0.0123\n",
            "Epoch 25/50\n",
            "6/6 [==============================] - 0s 11ms/step - loss: 0.0104\n",
            "Epoch 26/50\n",
            "6/6 [==============================] - 0s 12ms/step - loss: 0.0100\n",
            "Epoch 27/50\n",
            "6/6 [==============================] - 0s 12ms/step - loss: 0.0101\n",
            "Epoch 28/50\n",
            "6/6 [==============================] - 0s 11ms/step - loss: 0.0114\n",
            "Epoch 29/50\n",
            "6/6 [==============================] - 0s 11ms/step - loss: 0.0105\n"
          ],
          "name": "stdout"
        }
      ]
    },
    {
      "cell_type": "code",
      "metadata": {
        "id": "upRa7tRnWQ4f",
        "colab_type": "code",
        "colab": {
          "base_uri": "https://localhost:8080/",
          "height": 278
        },
        "outputId": "3d22e5a8-f177-4e6f-fa94-a08af2081d59"
      },
      "source": [
        "import matplotlib.pyplot as plt\n",
        "\n",
        "plt.plot(model_history.history['loss'])\n",
        "plt.xlabel('Loss')\n",
        "plt.ylabel('Epochs')\n",
        "plt.show()"
      ],
      "execution_count": 74,
      "outputs": [
        {
          "output_type": "display_data",
          "data": {
            "image/png": "[encoded data removed]",
            "text/plain": [
              "<Figure size 432x288 with 1 Axes>"
            ]
          },
          "metadata": {
            "tags": [],
            "needs_background": "light"
          }
        }
      ]
    },
    {
      "cell_type": "code",
      "metadata": {
        "id": "LHidBhxDW2wz",
        "colab_type": "code",
        "colab": {}
      },
      "source": [
        "# Preparing test data to make peredictions:\n",
        "\n",
        "real_price = test_data.iloc[:, 1:2].values"
      ],
      "execution_count": 75,
      "outputs": []
    },
    {
      "cell_type": "code",
      "metadata": {
        "id": "HBmYwNb7YKeW",
        "colab_type": "code",
        "colab": {
          "base_uri": "https://localhost:8080/",
          "height": 125
        },
        "outputId": "9cf246ec-1bb8-45c1-bf1e-7a1edd7a3ee2"
      },
      "source": [
        "test_data.dropna(inplace=True)"
      ],
      "execution_count": 76,
      "outputs": [
        {
          "output_type": "stream",
          "text": [
            "/usr/local/lib/python3.6/dist-packages/ipykernel_launcher.py:1: SettingWithCopyWarning: \n",
            "A value is trying to be set on a copy of a slice from a DataFrame\n",
            "\n",
            "See the caveats in the documentation: https://pandas.pydata.org/pandas-docs/stable/user_guide/indexing.html#returning-a-view-versus-a-copy\n",
            "  \"\"\"Entry point for launching an IPython kernel.\n"
          ],
          "name": "stderr"
        }
      ]
    },
    {
      "cell_type": "code",
      "metadata": {
        "id": "s7gMYIexXxf1",
        "colab_type": "code",
        "colab": {}
      },
      "source": [
        "dataset = pd.concat([train_data['Open'], test_data['Open']])\n",
        "inputs = dataset[len(dataset) - len(test_data) - 60:].values\n",
        "inputs = inputs.reshape(-1, 1)\n",
        "inputs = sc.transform(inputs)\n",
        "\n",
        "X_test = []\n",
        "\n",
        "for i in range(60, 117):\n",
        "  X_test.append(inputs[i-60:i, 0])\n",
        "\n",
        "X_test = np.array(X_test)"
      ],
      "execution_count": 77,
      "outputs": []
    },
    {
      "cell_type": "code",
      "metadata": {
        "id": "-Upf9n47YWqf",
        "colab_type": "code",
        "colab": {}
      },
      "source": [
        "X_test = np.reshape(X_test, (X_test.shape[0], X_test.shape[1], 1))"
      ],
      "execution_count": 78,
      "outputs": []
    },
    {
      "cell_type": "code",
      "metadata": {
        "id": "PPC5TYWsYj6C",
        "colab_type": "code",
        "colab": {}
      },
      "source": [
        "predicted_price = model.predict(X_test)"
      ],
      "execution_count": 79,
      "outputs": []
    },
    {
      "cell_type": "code",
      "metadata": {
        "id": "NB6tf8s5Y8eD",
        "colab_type": "code",
        "colab": {}
      },
      "source": [
        "predicted_price = sc.inverse_transform(predicted_price)"
      ],
      "execution_count": 80,
      "outputs": []
    },
    {
      "cell_type": "code",
      "metadata": {
        "id": "GDUzIUSnZCk9",
        "colab_type": "code",
        "colab": {
          "base_uri": "https://localhost:8080/",
          "height": 404
        },
        "outputId": "a8296802-8f72-44b2-9838-f43c49a3beb9"
      },
      "source": [
        "# Plotting Predictions:\n",
        "\n",
        "plt.figure(figsize=(12, 6))\n",
        "\n",
        "plt.plot(real_stock_price, color='green', label='Bitcoin Price')\n",
        "plt.plot(predicted_price, color='red', label='Model Prediction')\n",
        "\n",
        "plt.title('Bitcoin Price Prediction')\n",
        "plt.xlabel('Time')\n",
        "plt.ylabel('Price')\n",
        "plt.legend()\n",
        "plt.show()"
      ],
      "execution_count": 81,
      "outputs": [
        {
          "output_type": "display_data",
          "data": {
            "image/png": "[encoded data removed]",
            "text/plain": [
              "<Figure size 864x432 with 1 Axes>"
            ]
          },
          "metadata": {
            "tags": [],
            "needs_background": "light"
          }
        }
      ]
    },
    {
      "cell_type": "code",
      "metadata": {
        "id": "AAZKeXV7ZvT4",
        "colab_type": "code",
        "colab": {}
      },
      "source": [
        ""
      ],
      "execution_count": null,
      "outputs": []
    }
  ]
}